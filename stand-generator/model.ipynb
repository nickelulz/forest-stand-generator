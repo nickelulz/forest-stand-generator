{
 "cells": [
  {
   "cell_type": "code",
   "execution_count": 1,
   "id": "759f2be8",
   "metadata": {},
   "outputs": [
    {
     "ename": "ModuleNotFoundError",
     "evalue": "No module named 'tensorflow'",
     "output_type": "error",
     "traceback": [
      "\u001b[0;31m---------------------------------------------------------------------------\u001b[0m",
      "\u001b[0;31mModuleNotFoundError\u001b[0m                       Traceback (most recent call last)",
      "Cell \u001b[0;32mIn [1], line 2\u001b[0m\n\u001b[1;32m      1\u001b[0m \u001b[38;5;28;01mimport\u001b[39;00m \u001b[38;5;21;01msys\u001b[39;00m\u001b[38;5;241m,\u001b[39m \u001b[38;5;21;01mos\u001b[39;00m\n\u001b[0;32m----> 2\u001b[0m \u001b[38;5;28;01mfrom\u001b[39;00m \u001b[38;5;21;01mstand_dataset\u001b[39;00m \u001b[38;5;28;01mimport\u001b[39;00m \u001b[38;5;241m*\u001b[39m\n\u001b[1;32m      3\u001b[0m \u001b[38;5;28;01mimport\u001b[39;00m \u001b[38;5;21;01mtensorflow\u001b[39;00m \u001b[38;5;28;01mas\u001b[39;00m \u001b[38;5;21;01mtf\u001b[39;00m\n\u001b[1;32m      4\u001b[0m \u001b[38;5;28;01mfrom\u001b[39;00m \u001b[38;5;21;01mmatplotlib\u001b[39;00m \u001b[38;5;28;01mimport\u001b[39;00m pyplot\n",
      "File \u001b[0;32m~/Programming/forest-stand-generator/stand-generator/stand_dataset.py:10\u001b[0m\n\u001b[1;32m      8\u001b[0m sys\u001b[38;5;241m.\u001b[39mpath\u001b[38;5;241m.\u001b[39mappend(ROOT_DIR)\n\u001b[1;32m      9\u001b[0m \u001b[38;5;28;01mfrom\u001b[39;00m \u001b[38;5;21;01mmrcnn\u001b[39;00m\u001b[38;5;21;01m.\u001b[39;00m\u001b[38;5;21;01mconfig\u001b[39;00m \u001b[38;5;28;01mimport\u001b[39;00m Config\n\u001b[0;32m---> 10\u001b[0m \u001b[38;5;28;01mfrom\u001b[39;00m \u001b[38;5;21;01mmrcnn\u001b[39;00m \u001b[38;5;28;01mimport\u001b[39;00m utils\n\u001b[1;32m     12\u001b[0m \u001b[38;5;28;01mclass\u001b[39;00m \u001b[38;5;21;01mStandImage\u001b[39;00m:\n\u001b[1;32m     13\u001b[0m     IMG_SIZE \u001b[38;5;241m=\u001b[39m \u001b[38;5;241m640\u001b[39m\n",
      "File \u001b[0;32m~/Programming/forest-stand-generator/mrcnn/utils.py:16\u001b[0m\n\u001b[1;32m     14\u001b[0m \u001b[38;5;28;01mimport\u001b[39;00m \u001b[38;5;21;01mrandom\u001b[39;00m\n\u001b[1;32m     15\u001b[0m \u001b[38;5;28;01mimport\u001b[39;00m \u001b[38;5;21;01mnumpy\u001b[39;00m \u001b[38;5;28;01mas\u001b[39;00m \u001b[38;5;21;01mnp\u001b[39;00m\n\u001b[0;32m---> 16\u001b[0m \u001b[38;5;28;01mimport\u001b[39;00m \u001b[38;5;21;01mtensorflow\u001b[39;00m \u001b[38;5;28;01mas\u001b[39;00m \u001b[38;5;21;01mtf\u001b[39;00m\n\u001b[1;32m     17\u001b[0m \u001b[38;5;28;01mimport\u001b[39;00m \u001b[38;5;21;01mscipy\u001b[39;00m\n\u001b[1;32m     18\u001b[0m \u001b[38;5;28;01mimport\u001b[39;00m \u001b[38;5;21;01mskimage\u001b[39;00m\u001b[38;5;21;01m.\u001b[39;00m\u001b[38;5;21;01mcolor\u001b[39;00m\n",
      "\u001b[0;31mModuleNotFoundError\u001b[0m: No module named 'tensorflow'"
     ]
    }
   ],
   "source": [
    "import sys, os\n",
    "from stand_dataset import *\n",
    "import tensorflow as tf\n",
    "from matplotlib import pyplot\n",
    "\n",
    "# add root directory\n",
    "ROOT_DIR = os.path.abspath(\"../\")\n",
    "sys.path.append(ROOT_DIR)\n",
    "\n",
    "from mrcnn.model import MaskRCNN\n",
    "from mrcnn.utils import compute_ap\n",
    "from mrcnn import visualize"
   ]
  },
  {
   "cell_type": "markdown",
   "id": "e7d4dc5b",
   "metadata": {},
   "source": [
    "### Paths"
   ]
  },
  {
   "cell_type": "code",
   "execution_count": null,
   "id": "580d7b9b",
   "metadata": {},
   "outputs": [],
   "source": [
    "COCO_MODEL_PATH = os.path.join(ROOT_DIR, \"mask_rcnn_coco.h5\")\n",
    "LOG_PATH = os.path.join(ROOT_DIR, \"logs\")\n",
    "MODEL_OUTPUT_PATH = os.path.join(LOG_PATH, 'mask_rcnn_stands.h5')"
   ]
  },
  {
   "cell_type": "markdown",
   "id": "d97cf072",
   "metadata": {},
   "source": [
    "### Datasets"
   ]
  },
  {
   "cell_type": "code",
   "execution_count": null,
   "id": "dac891db",
   "metadata": {},
   "outputs": [],
   "source": [
    "train_dataset = StandDataset('train')\n",
    "valid_dataset = StandDataset('valid')\n",
    "test_dataset = StandDataset('test')"
   ]
  },
  {
   "cell_type": "markdown",
   "id": "78380c61",
   "metadata": {},
   "source": [
    "### Training and Validation"
   ]
  },
  {
   "cell_type": "code",
   "execution_count": null,
   "id": "f93de967",
   "metadata": {},
   "outputs": [],
   "source": [
    "train_dataset.prepare()\n",
    "valid_dataset.prepare()\n",
    "\n",
    "config = StandConfig()\n",
    "\n",
    "model = MaskRCNN(mode='training',\n",
    "                config=config,\n",
    "                model_dir=LOG_PATH)\n",
    "\n",
    "model.load_weights(weights_path, \n",
    "                   by_name=True, \n",
    "                   exclude=[ \"mrcnn_class_logits\", \n",
    "                             \"mrcnn_bbox_fc\", \n",
    "                             \"mrcnn_bbox\", \n",
    "                             \"mrcnn_mask\"])\n",
    "model.train(train_dataset, valid_dataset,\n",
    "           learning_rate=config.LEARNING_RATE,\n",
    "           epochs=1,\n",
    "           layers=\"heads\")"
   ]
  },
  {
   "cell_type": "markdown",
   "id": "e20a12ac",
   "metadata": {},
   "source": [
    "## Testing/Inference"
   ]
  },
  {
   "cell_type": "code",
   "execution_count": null,
   "id": "d8e3b9da",
   "metadata": {},
   "outputs": [],
   "source": [
    "inference_config = StandConfig()\n",
    "inference_config.GPU_COUNT = 1\n",
    "inference_config.IMAGES_PER_GPU = 1\n",
    "\n",
    "model = MaskRCNN(mode=\"inference\",\n",
    "                 config=inference_config, \n",
    "                 model_dir=LOG_PATH)\n",
    "model.load_weights(MODEL_OUTPUT_PATH, by_name=True)"
   ]
  },
  {
   "cell_type": "markdown",
   "id": "68f1276a",
   "metadata": {},
   "source": [
    "### Full-Dataset (mAP with IOU at 0.5)"
   ]
  },
  {
   "cell_type": "code",
   "execution_count": null,
   "id": "33232385",
   "metadata": {},
   "outputs": [],
   "source": [
    "test_dataset.prepare()\n",
    "\n",
    "aps = []\n",
    "for image in test_dataset.pool:\n",
    "    results = model.detect([image.load()], verbose=0)\n",
    "    r = results[0]\n",
    "    \n",
    "    masks, class_ids = image.masks()\n",
    "    calculation = compute_ap(masks, \n",
    "                             class_ids, \n",
    "                             r['masks'], \n",
    "                             r['class_ids'])\n",
    "    ap = calculation[0]\n",
    "    aps.append(ap)\n",
    "\n",
    "mAP = np.mean(aps)\n",
    "print(f'Model Mean Average Precision (mAP at 0.5): {mAP:.4f}')"
   ]
  },
  {
   "cell_type": "markdown",
   "id": "ead504b5",
   "metadata": {},
   "source": [
    "### Single Image Test"
   ]
  },
  {
   "cell_type": "code",
   "execution_count": null,
   "id": "d25e5f0b",
   "metadata": {},
   "outputs": [],
   "source": [
    "image = test_dataset.get_random()\n",
    "masks, class_ids = image.masks()\n",
    "loaded_image = image.load()\n",
    "results = model.detect([loaded_image], verbose=1)\n",
    "r = results[0]\n",
    "\n",
    "visualize.display_instances(loaded_image, \n",
    "                            r['rois'], \n",
    "                            r['masks'], \n",
    "                            r['class_ids'],\n",
    "                            [\"BG\", \"Stand\"], \n",
    "                            r['scores'])"
   ]
  }
 ],
 "metadata": {
  "kernelspec": {
   "display_name": "Python 3 (ipykernel)",
   "language": "python",
   "name": "python3"
  },
  "language_info": {
   "codemirror_mode": {
    "name": "ipython",
    "version": 3
   },
   "file_extension": ".py",
   "mimetype": "text/x-python",
   "name": "python",
   "nbconvert_exporter": "python",
   "pygments_lexer": "ipython3",
   "version": "3.11.2"
  }
 },
 "nbformat": 4,
 "nbformat_minor": 5
}
